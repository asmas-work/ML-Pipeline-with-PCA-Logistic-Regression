{
  "nbformat": 4,
  "nbformat_minor": 0,
  "metadata": {
    "colab": {
      "provenance": [],
      "authorship_tag": "ABX9TyPzEHYd6eSiZx5kSI95Bmi8",
      "include_colab_link": true
    },
    "kernelspec": {
      "name": "python3",
      "display_name": "Python 3"
    },
    "language_info": {
      "name": "python"
    }
  },
  "cells": [
    {
      "cell_type": "markdown",
      "metadata": {
        "id": "view-in-github",
        "colab_type": "text"
      },
      "source": [
        "<a href=\"https://colab.research.google.com/github/asmas-work/ML-Pipeline-with-PCA-Logistic-Regression/blob/main/PCA_Script_for_5_DataSets.ipynb\" target=\"_parent\"><img src=\"https://colab.research.google.com/assets/colab-badge.svg\" alt=\"Open In Colab\"/></a>"
      ]
    },
    {
      "cell_type": "markdown",
      "source": [
        "# PCA applied on Below 5 DataSets from Kaggle\n",
        "### 1: [Ai Dev Productivity](https://www.kaggle.com/datasets/atharvasoundankar/ai-developer-productivity-dataset),\n",
        "### 2: [Personality Dataset](https://www.kaggle.com/datasets/rakeshkapilavai/extrovert-vs-introvert-behavior-data),\n",
        "### 3: [Human Activity Recognition with Smartphones](https://www.kaggle.com/datasets/uciml/human-activity-recognition-with-smartphones?select=train.csv),\n",
        "### 4: [Student Habits Performance](https://www.kaggle.com/datasets/jayaantanaath/student-habits-vs-academic-performance),\n",
        "### 5: [Wine Quality Red](https://www.kaggle.com/datasets/uciml/red-wine-quality-cortez-et-al-2009)"
      ],
      "metadata": {
        "id": "ZzlwHdgN3Lio"
      }
    },
    {
      "cell_type": "code",
      "source": [
        "import os, time, csv\n",
        "import pandas as pd\n",
        "from sklearn.model_selection import train_test_split\n",
        "from sklearn.preprocessing import StandardScaler\n",
        "from sklearn.impute import SimpleImputer\n",
        "from sklearn.decomposition import PCA\n",
        "from sklearn.linear_model import LogisticRegression\n",
        "\n",
        "def process_file(file_path, target_col=None, bins=3, variance_levels=None):\n",
        "    if variance_levels is None:\n",
        "        variance_levels = [1.00, 0.99, 0.95, 0.90, 0.85]\n",
        "\n",
        "    # ─────────────────────────────────────────────────────────────────────────────\n",
        "    # 1. Load & sniff delimiter\n",
        "    with open(file_path, newline='') as f:\n",
        "        sample = f.read(2048)\n",
        "        try:\n",
        "            delim = csv.Sniffer().sniff(sample).delimiter\n",
        "        except csv.Error:\n",
        "            delim = ','\n",
        "    df = pd.read_csv(file_path, sep=delim)\n",
        "    df.columns = df.columns.str.strip()\n",
        "\n",
        "    # ─────────────────────────────────────────────────────────────────────────────\n",
        "    # 2. Identify target column\n",
        "    if target_col is None:\n",
        "        target_col = df.columns[-1]\n",
        "    if target_col not in df.columns:\n",
        "        raise KeyError(f\"Column '{target_col}' not found in {file_path}\")\n",
        "\n",
        "    # ─────────────────────────────────────────────────────────────────────────────\n",
        "    # 3. Drop “ID‐like” columns:\n",
        "    #    - any column ending in '_id'\n",
        "    #    - or any object column with cardinality == n_rows\n",
        "    id_cols = [c for c in df.columns\n",
        "               if c.lower().endswith('_id')]\n",
        "    n = len(df)\n",
        "    for c in df.select_dtypes(include=['object']).columns:\n",
        "        if df[c].nunique() == n:\n",
        "            id_cols.append(c)\n",
        "    id_cols = list(set(id_cols))\n",
        "\n",
        "    # ─────────────────────────────────────────────────────────────────────────────\n",
        "    # 4. Prepare X & y\n",
        "    #    - if float target, bin into quantiles to make it categorical\n",
        "    y_raw = df[target_col]\n",
        "    if y_raw.dtype.kind == 'f':\n",
        "        y = pd.qcut(y_raw, q=bins, labels=False)\n",
        "    else:\n",
        "        y = y_raw.values\n",
        "\n",
        "    X = df.drop(columns=id_cols + [target_col])\n",
        "\n",
        "    # ─────────────────────────────────────────────────────────────────────────────\n",
        "    # 5. One-hot encode categoricals\n",
        "    X = pd.get_dummies(X, drop_first=True)\n",
        "\n",
        "    # 6. Impute missing values\n",
        "    imputer = SimpleImputer(strategy='mean')\n",
        "    X_imp = imputer.fit_transform(X)\n",
        "\n",
        "    # 7. Train/test split\n",
        "    stratify_arg = y if y_raw.dtype.kind != 'f' else None\n",
        "    X_train, X_test, y_train, y_test = train_test_split(\n",
        "        X_imp, y,\n",
        "        test_size=0.20,\n",
        "        random_state=42,\n",
        "        stratify=stratify_arg\n",
        "    )\n",
        "\n",
        "    # 8. Standardize\n",
        "    scaler = StandardScaler().fit(X_train)\n",
        "    X_train_s = scaler.transform(X_train)\n",
        "    X_test_s  = scaler.transform(X_test)\n",
        "\n",
        "    # 9. PCA + Logistic Regression\n",
        "    records = []\n",
        "    n_features = X_train_s.shape[1]\n",
        "    for var in variance_levels:\n",
        "        n_comp_param = n_features if var >= 1.0 else var\n",
        "        pca = PCA(n_components=n_comp_param, svd_solver='full').fit(X_train_s)\n",
        "        n_comp = pca.n_components_\n",
        "        X_tr = pca.transform(X_train_s)\n",
        "        X_te = pca.transform(X_test_s)\n",
        "\n",
        "        clf = LogisticRegression(solver='lbfgs', multi_class='auto', max_iter=1000)\n",
        "        start = time.time()\n",
        "        clf.fit(X_tr, y_train)\n",
        "        elapsed = time.time() - start\n",
        "        acc = clf.score(X_te, y_test)\n",
        "\n",
        "        records.append((var, n_comp, elapsed, acc))\n",
        "\n",
        "    results = pd.DataFrame(\n",
        "        records,\n",
        "        columns=[\"Variance Retained\", \"Number of Components\", \"Time (s)\", \"Accuracy\"]\n",
        "    )\n",
        "    return results\n",
        "\n",
        "if __name__ == \"__main__\":\n",
        "    # ─────────────────────────────────────────────────────────────────────────\n",
        "    #  List your files here (full paths or relative).\n",
        "    files = [\n",
        "        \"/content/ai_dev_productivity.csv\",\n",
        "        \"/content/personality_dataset.csv\",\n",
        "        \"/content/human_activity_recognition_with_smartphones.csv\",\n",
        "        \"/content/student_habits_performance.csv\",\n",
        "        \"/content/winequality-red.csv\"\n",
        "    ]\n",
        "\n",
        "    # If you need to override the target column for a given file, list it here.\n",
        "    target_map = {\n",
        "        # \"/mnt/data/student_habits_performance.csv\": \"exam_score\",\n",
        "        # \"/mnt/data/ai_dev_productivity.csv\":     \"task_success\",\n",
        "        # etc...\n",
        "    }\n",
        "\n",
        "    for fp in files:\n",
        "        print(f\"\\n=== Results for: {os.path.basename(fp)} ===\")\n",
        "        results = process_file(fp, target_col=target_map.get(fp))\n",
        "        print(results.to_string(index=False))\n"
      ],
      "metadata": {
        "colab": {
          "base_uri": "https://localhost:8080/"
        },
        "id": "COhV5Vikxem0",
        "outputId": "80ea27cf-1595-4480-b231-6007a6f2da28"
      },
      "execution_count": null,
      "outputs": [
        {
          "output_type": "stream",
          "name": "stdout",
          "text": [
            "\n",
            "=== Results for: winequality-red.csv ===\n"
          ]
        },
        {
          "output_type": "stream",
          "name": "stderr",
          "text": [
            "/usr/local/lib/python3.11/dist-packages/sklearn/linear_model/_logistic.py:1247: FutureWarning: 'multi_class' was deprecated in version 1.5 and will be removed in 1.7. From then on, it will always use 'multinomial'. Leave it to its default value to avoid this warning.\n",
            "  warnings.warn(\n",
            "/usr/local/lib/python3.11/dist-packages/sklearn/linear_model/_logistic.py:1247: FutureWarning: 'multi_class' was deprecated in version 1.5 and will be removed in 1.7. From then on, it will always use 'multinomial'. Leave it to its default value to avoid this warning.\n",
            "  warnings.warn(\n",
            "/usr/local/lib/python3.11/dist-packages/sklearn/linear_model/_logistic.py:1247: FutureWarning: 'multi_class' was deprecated in version 1.5 and will be removed in 1.7. From then on, it will always use 'multinomial'. Leave it to its default value to avoid this warning.\n",
            "  warnings.warn(\n",
            "/usr/local/lib/python3.11/dist-packages/sklearn/linear_model/_logistic.py:1247: FutureWarning: 'multi_class' was deprecated in version 1.5 and will be removed in 1.7. From then on, it will always use 'multinomial'. Leave it to its default value to avoid this warning.\n",
            "  warnings.warn(\n",
            "/usr/local/lib/python3.11/dist-packages/sklearn/linear_model/_logistic.py:1247: FutureWarning: 'multi_class' was deprecated in version 1.5 and will be removed in 1.7. From then on, it will always use 'multinomial'. Leave it to its default value to avoid this warning.\n",
            "  warnings.warn(\n",
            "/usr/local/lib/python3.11/dist-packages/sklearn/linear_model/_logistic.py:1247: FutureWarning: 'multi_class' was deprecated in version 1.5 and will be removed in 1.7. From then on, it will always use 'multinomial'. Leave it to its default value to avoid this warning.\n",
            "  warnings.warn(\n"
          ]
        },
        {
          "output_type": "stream",
          "name": "stdout",
          "text": [
            " Variance Retained  Number of Components  Time (s)  Accuracy\n",
            "              1.00                    11  0.144193  0.590625\n",
            "              0.99                    10  0.124519  0.600000\n",
            "              0.95                     9  0.367768  0.603125\n",
            "              0.90                     7  0.198867  0.575000\n",
            "              0.85                     6  0.085734  0.578125\n",
            "\n",
            "=== Results for: ai_dev_productivity.csv ===\n"
          ]
        },
        {
          "output_type": "stream",
          "name": "stderr",
          "text": [
            "/usr/local/lib/python3.11/dist-packages/sklearn/linear_model/_logistic.py:1247: FutureWarning: 'multi_class' was deprecated in version 1.5 and will be removed in 1.7. From then on, it will always use 'multinomial'. Leave it to its default value to avoid this warning.\n",
            "  warnings.warn(\n",
            "/usr/local/lib/python3.11/dist-packages/sklearn/linear_model/_logistic.py:1247: FutureWarning: 'multi_class' was deprecated in version 1.5 and will be removed in 1.7. From then on, it will always use 'multinomial'. Leave it to its default value to avoid this warning.\n",
            "  warnings.warn(\n",
            "/usr/local/lib/python3.11/dist-packages/sklearn/linear_model/_logistic.py:1247: FutureWarning: 'multi_class' was deprecated in version 1.5 and will be removed in 1.7. From then on, it will always use 'multinomial'. Leave it to its default value to avoid this warning.\n",
            "  warnings.warn(\n",
            "/usr/local/lib/python3.11/dist-packages/sklearn/linear_model/_logistic.py:1247: FutureWarning: 'multi_class' was deprecated in version 1.5 and will be removed in 1.7. From then on, it will always use 'multinomial'. Leave it to its default value to avoid this warning.\n",
            "  warnings.warn(\n"
          ]
        },
        {
          "output_type": "stream",
          "name": "stdout",
          "text": [
            " Variance Retained  Number of Components  Time (s)  Accuracy\n",
            "              1.00                     8  0.151705      0.93\n",
            "              0.99                     8  0.044499      0.93\n",
            "              0.95                     6  0.015794      0.91\n",
            "              0.90                     5  0.010782      0.80\n",
            "              0.85                     5  0.010647      0.80\n",
            "\n",
            "=== Results for: personality_dataset.csv ===\n"
          ]
        },
        {
          "output_type": "stream",
          "name": "stderr",
          "text": [
            "/usr/local/lib/python3.11/dist-packages/sklearn/linear_model/_logistic.py:1247: FutureWarning: 'multi_class' was deprecated in version 1.5 and will be removed in 1.7. From then on, it will always use 'multinomial'. Leave it to its default value to avoid this warning.\n",
            "  warnings.warn(\n",
            "/usr/local/lib/python3.11/dist-packages/sklearn/linear_model/_logistic.py:1247: FutureWarning: 'multi_class' was deprecated in version 1.5 and will be removed in 1.7. From then on, it will always use 'multinomial'. Leave it to its default value to avoid this warning.\n",
            "  warnings.warn(\n",
            "/usr/local/lib/python3.11/dist-packages/sklearn/linear_model/_logistic.py:1247: FutureWarning: 'multi_class' was deprecated in version 1.5 and will be removed in 1.7. From then on, it will always use 'multinomial'. Leave it to its default value to avoid this warning.\n",
            "  warnings.warn(\n",
            "/usr/local/lib/python3.11/dist-packages/sklearn/linear_model/_logistic.py:1247: FutureWarning: 'multi_class' was deprecated in version 1.5 and will be removed in 1.7. From then on, it will always use 'multinomial'. Leave it to its default value to avoid this warning.\n",
            "  warnings.warn(\n",
            "/usr/local/lib/python3.11/dist-packages/sklearn/linear_model/_logistic.py:1247: FutureWarning: 'multi_class' was deprecated in version 1.5 and will be removed in 1.7. From then on, it will always use 'multinomial'. Leave it to its default value to avoid this warning.\n",
            "  warnings.warn(\n"
          ]
        },
        {
          "output_type": "stream",
          "name": "stdout",
          "text": [
            " Variance Retained  Number of Components  Time (s)  Accuracy\n",
            "              1.00                     7  0.021113  0.905172\n",
            "              0.99                     6  0.025299  0.905172\n",
            "              0.95                     5  0.017509  0.917241\n",
            "              0.90                     3  0.038222  0.917241\n",
            "              0.85                     2  0.009388  0.917241\n",
            "\n",
            "=== Results for: human_activity_recognition_with_smartphones.csv ===\n"
          ]
        },
        {
          "output_type": "stream",
          "name": "stderr",
          "text": [
            "/usr/local/lib/python3.11/dist-packages/sklearn/linear_model/_logistic.py:1247: FutureWarning: 'multi_class' was deprecated in version 1.5 and will be removed in 1.7. From then on, it will always use 'multinomial'. Leave it to its default value to avoid this warning.\n",
            "  warnings.warn(\n",
            "/usr/local/lib/python3.11/dist-packages/sklearn/linear_model/_logistic.py:1247: FutureWarning: 'multi_class' was deprecated in version 1.5 and will be removed in 1.7. From then on, it will always use 'multinomial'. Leave it to its default value to avoid this warning.\n",
            "  warnings.warn(\n",
            "/usr/local/lib/python3.11/dist-packages/sklearn/linear_model/_logistic.py:1247: FutureWarning: 'multi_class' was deprecated in version 1.5 and will be removed in 1.7. From then on, it will always use 'multinomial'. Leave it to its default value to avoid this warning.\n",
            "  warnings.warn(\n",
            "/usr/local/lib/python3.11/dist-packages/sklearn/linear_model/_logistic.py:1247: FutureWarning: 'multi_class' was deprecated in version 1.5 and will be removed in 1.7. From then on, it will always use 'multinomial'. Leave it to its default value to avoid this warning.\n",
            "  warnings.warn(\n",
            "/usr/local/lib/python3.11/dist-packages/sklearn/linear_model/_logistic.py:1247: FutureWarning: 'multi_class' was deprecated in version 1.5 and will be removed in 1.7. From then on, it will always use 'multinomial'. Leave it to its default value to avoid this warning.\n",
            "  warnings.warn(\n"
          ]
        },
        {
          "output_type": "stream",
          "name": "stdout",
          "text": [
            " Variance Retained  Number of Components  Time (s)  Accuracy\n",
            "              1.00                   562 11.171856  0.985044\n",
            "              0.99                   179  4.658196  0.983005\n",
            "              0.95                   102  5.545699  0.979606\n",
            "              0.90                    63  9.421645  0.960571\n",
            "              0.85                    41 11.812925  0.948334\n",
            "\n",
            "=== Results for: student_habits_performance.csv ===\n",
            " Variance Retained  Number of Components  Time (s)  Accuracy\n",
            "              1.00                    18  0.025555     0.810\n",
            "              0.99                    18  0.023478     0.810\n",
            "              0.95                    17  0.017087     0.805\n",
            "              0.90                    15  0.009268     0.815\n",
            "              0.85                    14  0.009040     0.790\n"
          ]
        },
        {
          "output_type": "stream",
          "name": "stderr",
          "text": [
            "/usr/local/lib/python3.11/dist-packages/sklearn/linear_model/_logistic.py:1247: FutureWarning: 'multi_class' was deprecated in version 1.5 and will be removed in 1.7. From then on, it will always use 'multinomial'. Leave it to its default value to avoid this warning.\n",
            "  warnings.warn(\n",
            "/usr/local/lib/python3.11/dist-packages/sklearn/linear_model/_logistic.py:1247: FutureWarning: 'multi_class' was deprecated in version 1.5 and will be removed in 1.7. From then on, it will always use 'multinomial'. Leave it to its default value to avoid this warning.\n",
            "  warnings.warn(\n",
            "/usr/local/lib/python3.11/dist-packages/sklearn/linear_model/_logistic.py:1247: FutureWarning: 'multi_class' was deprecated in version 1.5 and will be removed in 1.7. From then on, it will always use 'multinomial'. Leave it to its default value to avoid this warning.\n",
            "  warnings.warn(\n",
            "/usr/local/lib/python3.11/dist-packages/sklearn/linear_model/_logistic.py:1247: FutureWarning: 'multi_class' was deprecated in version 1.5 and will be removed in 1.7. From then on, it will always use 'multinomial'. Leave it to its default value to avoid this warning.\n",
            "  warnings.warn(\n",
            "/usr/local/lib/python3.11/dist-packages/sklearn/linear_model/_logistic.py:1247: FutureWarning: 'multi_class' was deprecated in version 1.5 and will be removed in 1.7. From then on, it will always use 'multinomial'. Leave it to its default value to avoid this warning.\n",
            "  warnings.warn(\n"
          ]
        }
      ]
    }
  ]
}